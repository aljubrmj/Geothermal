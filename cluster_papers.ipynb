{
 "cells": [
  {
   "cell_type": "code",
   "execution_count": 167,
   "metadata": {},
   "outputs": [],
   "source": [
    "from sklearn.feature_extraction.text import TfidfVectorizer\n",
    "from sklearn.decomposition import TruncatedSVD\n",
    "from sklearn.preprocessing import Normalizer\n",
    "from sklearn.cluster import KMeans\n",
    "import numpy as np\n",
    "import pandas as pd\n",
    "from tqdm import tqdm\n",
    "import matplotlib.pyplot as plt"
   ]
  },
  {
   "cell_type": "code",
   "execution_count": 171,
   "metadata": {},
   "outputs": [
    {
     "data": {
      "text/plain": [
       "13985"
      ]
     },
     "execution_count": 171,
     "metadata": {},
     "output_type": "execute_result"
    }
   ],
   "source": [
    "df = pd.read_csv('../scrape_literature_geothermal_extended.csv')\n",
    "df.drop_duplicates(inplace=True)\n",
    "df = df[~df.abstract.isna()]\n",
    "document = [d.strip() for d in list(df.abstract.values)]\n",
    "len(document)"
   ]
  },
  {
   "cell_type": "code",
   "execution_count": 177,
   "metadata": {},
   "outputs": [],
   "source": [
    "k = 10\n",
    "n_components = 100\n",
    "vectorizer = TfidfVectorizer(stop_words='english')\n",
    "X = vectorizer.fit_transform(document)\n",
    "svd = TruncatedSVD(n_components=n_components)\n",
    "nm = Normalizer(copy=False)\n",
    "X = svd.fit_transform(X)\n",
    "model = KMeans(n_clusters=k, init='k-means++', max_iter=100, n_init=1)\n",
    "model.fit(X)\n",
    "\n",
    "order_centroids = model.cluster_centers_\n",
    "order_centroids = svd.inverse_transform(order_centroids).argsort()[:, ::-1]\n",
    "terms = vectorizer.get_feature_names()"
   ]
  },
  {
   "cell_type": "code",
   "execution_count": 178,
   "metadata": {},
   "outputs": [
    {
     "name": "stdout",
     "output_type": "stream",
     "text": [
      "\n",
      "Cluster 1\n",
      "power\n",
      "plant\n",
      "geothermal\n",
      "plants\n",
      "steam\n",
      "\n",
      "Cluster 2\n",
      "tracer\n",
      "tracers\n",
      "injection\n",
      "test\n",
      "flow\n",
      "\n",
      "Cluster 3\n",
      "resistivity\n",
      "mt\n",
      "data\n",
      "geothermal\n",
      "inversion\n",
      "\n",
      "Cluster 4\n",
      "abstract\n",
      "available\n",
      "provided\n",
      "equipment\n",
      "inversion\n",
      "\n",
      "Cluster 5\n",
      "geothermal\n",
      "energy\n",
      "heat\n",
      "heating\n",
      "resources\n",
      "\n",
      "Cluster 6\n",
      "reservoir\n",
      "pressure\n",
      "production\n",
      "model\n",
      "wells\n",
      "\n",
      "Cluster 7\n",
      "geothermal\n",
      "drilling\n",
      "data\n",
      "heat\n",
      "temperature\n",
      "\n",
      "Cluster 8\n",
      "fracture\n",
      "fractures\n",
      "stress\n",
      "hydraulic\n",
      "flow\n",
      "\n",
      "Cluster 9\n",
      "geothermal\n",
      "area\n",
      "thermal\n",
      "temperature\n",
      "water\n",
      "\n",
      "Cluster 10\n",
      "la\n",
      "en\n",
      "el\n",
      "se\n",
      "del\n"
     ]
    }
   ],
   "source": [
    "for i in range(k):\n",
    "    print(f'\\nCluster {i+1}')\n",
    "    for ind in order_centroids[i, :5]:\n",
    "        print(f'{terms[ind]}')"
   ]
  }
 ],
 "metadata": {
  "kernelspec": {
   "display_name": "Python 3",
   "language": "python",
   "name": "python3"
  },
  "language_info": {
   "codemirror_mode": {
    "name": "ipython",
    "version": 3
   },
   "file_extension": ".py",
   "mimetype": "text/x-python",
   "name": "python",
   "nbconvert_exporter": "python",
   "pygments_lexer": "ipython3",
   "version": "3.8.2"
  }
 },
 "nbformat": 4,
 "nbformat_minor": 4
}
